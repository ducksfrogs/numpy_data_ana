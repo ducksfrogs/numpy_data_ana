{
 "cells": [
  {
   "cell_type": "code",
   "execution_count": 6,
   "metadata": {},
   "outputs": [
    {
     "name": "stdout",
     "output_type": "stream",
     "text": [
      "        Before  After\n",
      "minm [    0.0    1.0]\n",
      "maxm [   89.0   38.4]\n",
      "vari [   73.8   47.8]\n",
      "mean [    3.6    8.3]\n"
     ]
    }
   ],
   "source": [
    "import numpy as np\n",
    "from sklearn.datasets import load_boston\n",
    "from scipy import stats\n",
    "dataset = load_boston()\n",
    "\n",
    "samples, target = dataset.data, dataset.target\n",
    "\n",
    "CRIM = samples[:,0:1]\n",
    "minimum = np.round(np.amin(CRIM), decimals=1)\n",
    "maximum = np.round(np.amax(CRIM), decimals=1)\n",
    "variance  = np.round(np.var(CRIM), decimals=1)\n",
    "mean = np.round(np.mean(CRIM), decimals=1)\n",
    "Befor_trim = np.vstack((minimum, maximum, variance, mean))\n",
    "minimum_trim = stats.tmin(CRIM,1)\n",
    "maximum_trim = stats.tmax(CRIM, 40)\n",
    "variance_trim = stats.tvar(CRIM, (1,40))\n",
    "mean_trim = stats.tmean(CRIM, (1,40))\n",
    "After_trim = np.round(np.vstack((minimum_trim, maximum_trim, variance_trim, mean_trim)), decimals=1)\n",
    "\n",
    "stat_labels1 = ['minm','maxm','vari','mean']\n",
    "Basic_stastice1 = np.hstack((Befor_trim, After_trim))\n",
    "\n",
    "print(\"        Before  After\")\n",
    "for stat_labels1, row1 in zip(stat_labels1, Basic_stastice1):\n",
    "    print('%s [%s]' % (stat_labels1,''.join('%07s' % a for a in row1)))\n"
   ]
  },
  {
   "cell_type": "code",
   "execution_count": null,
   "metadata": {},
   "outputs": [],
   "source": []
  }
 ],
 "metadata": {
  "kernelspec": {
   "display_name": "Python 3",
   "language": "python",
   "name": "python3"
  },
  "language_info": {
   "codemirror_mode": {
    "name": "ipython",
    "version": 3
   },
   "file_extension": ".py",
   "mimetype": "text/x-python",
   "name": "python",
   "nbconvert_exporter": "python",
   "pygments_lexer": "ipython3",
   "version": "3.7.6"
  }
 },
 "nbformat": 4,
 "nbformat_minor": 4
}
