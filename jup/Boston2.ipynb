{
 "cells": [
  {
   "cell_type": "code",
   "execution_count": 12,
   "metadata": {},
   "outputs": [
    {
     "name": "stdout",
     "output_type": "stream",
     "text": [
      "        Before  After\n",
      "minm [    0.0    1.0]\n",
      "maxm [   89.0   38.4]\n",
      "vari [   73.8   47.8]\n",
      "mean [    3.6    8.3]\n"
     ]
    }
   ],
   "source": [
    "import numpy as np\n",
    "from sklearn.datasets import load_boston\n",
    "from scipy import stats\n",
    "dataset = load_boston()\n",
    "\n",
    "samples, target, label = dataset.data, dataset.target, dataset.feature_names\n",
    "\n",
    "CRIM = samples[:,0:1]\n",
    "minimum = np.round(np.amin(CRIM), decimals=1)\n",
    "maximum = np.round(np.amax(CRIM), decimals=1)\n",
    "variance  = np.round(np.var(CRIM), decimals=1)\n",
    "mean = np.round(np.mean(CRIM), decimals=1)\n",
    "Befor_trim = np.vstack((minimum, maximum, variance, mean))\n",
    "minimum_trim = stats.tmin(CRIM,1)\n",
    "maximum_trim = stats.tmax(CRIM, 40)\n",
    "variance_trim = stats.tvar(CRIM, (1,40))\n",
    "mean_trim = stats.tmean(CRIM, (1,40))\n",
    "After_trim = np.round(np.vstack((minimum_trim, maximum_trim, variance_trim, mean_trim)), decimals=1)\n",
    "\n",
    "stat_labels1 = ['minm','maxm','vari','mean']\n",
    "Basic_stastice1 = np.hstack((Befor_trim, After_trim))\n",
    "\n",
    "print(\"        Before  After\")\n",
    "for stat_labels1, row1 in zip(stat_labels1, Basic_stastice1):\n",
    "    print('%s [%s]' % (stat_labels1,''.join('%07s' % a for a in row1)))\n"
   ]
  },
  {
   "cell_type": "code",
   "execution_count": null,
   "metadata": {},
   "outputs": [],
   "source": [
    "dataset.feature_names"
   ]
  },
  {
   "cell_type": "code",
   "execution_count": 2,
   "metadata": {},
   "outputs": [
    {
     "data": {
      "image/png": "[encoded data removed]",
      "text/plain": [
       "<Figure size 720x144 with 2 Axes>"
      ]
     },
     "metadata": {
      "needs_background": "light"
     },
     "output_type": "display_data"
    }
   ],
   "source": [
    "import matplotlib.pyplot as plt\n",
    "\n",
    "CRIM_TRIMED = stats.trimboth(CRIM, 0.2)\n",
    "fig, (ax1, ax2) = plt.subplots(1,2, figsize=(10,2))\n",
    "axs = [ax1, ax2]\n",
    "df = [CRIM, CRIM_TRIMED]\n",
    "list_mathods = ['Befor trim', 'After trim']\n",
    "for n in range(0, len(axs)):\n",
    "    axs[n].hist(df[n], bins='auto')\n",
    "    axs[n].set_title('{}'.format(list_mathods[n]))\n"
   ]
  },
  {
   "cell_type": "code",
   "execution_count": 3,
   "metadata": {},
   "outputs": [
    {
     "data": {
      "text/plain": [
       "Text(0.5, 1.0, 'RM')"
      ]
     },
     "execution_count": 3,
     "metadata": {},
     "output_type": "execute_result"
    },
    {
     "data": {
      "image/png": "[encoded data removed]",
      "text/plain": [
       "<Figure size 720x144 with 2 Axes>"
      ]
     },
     "metadata": {
      "needs_background": "light"
     },
     "output_type": "display_data"
    }
   ],
   "source": [
    "\n",
    "fig, (ax1, ax2) = plt.subplots(1,2, figsize=(10,2))\n",
    "axs = [ax1, ax2]\n",
    "list_features = ['CRIM', 'RM']\n",
    "ax1.boxplot(stats.trimboth(samples[:,0:1],0.2))\n",
    "ax1.set_title('{}'.format(list_features[0]))\n",
    "ax2.boxplot(stats.trimboth(samples[:,5:6],0.2))\n",
    "ax2.set_title('{}'.format(list_features[1]))\n"
   ]
  },
  {
   "cell_type": "code",
   "execution_count": 4,
   "metadata": {},
   "outputs": [
    {
     "data": {
      "text/plain": [
       "{'whiskers': [<matplotlib.lines.Line2D at 0x7f972c6eef10>,\n",
       "  <matplotlib.lines.Line2D at 0x7f972c860110>],\n",
       " 'caps': [<matplotlib.lines.Line2D at 0x7f972c860ad0>,\n",
       "  <matplotlib.lines.Line2D at 0x7f972c860590>],\n",
       " 'boxes': [<matplotlib.lines.Line2D at 0x7f972c74a090>],\n",
       " 'medians': [<matplotlib.lines.Line2D at 0x7f972c870690>],\n",
       " 'fliers': [<matplotlib.lines.Line2D at 0x7f972c870610>],\n",
       " 'means': []}"
      ]
     },
     "execution_count": 4,
     "metadata": {},
     "output_type": "execute_result"
    },
    {
     "data": {
      "image/png": "[encoded data removed]",
      "text/plain": [
       "<Figure size 432x288 with 1 Axes>"
      ]
     },
     "metadata": {
      "needs_background": "light"
     },
     "output_type": "display_data"
    }
   ],
   "source": [
    "plt.boxplot(samples[:,0:1])"
   ]
  },
  {
   "cell_type": "code",
   "execution_count": 5,
   "metadata": {},
   "outputs": [
    {
     "data": {
      "text/plain": [
       "array([[ 1. , -0.2,  0.4, -0.1,  0.4, -0.2,  0.4, -0.4,  0.6,  0.6,  0.3,\n",
       "        -0.4,  0.5],\n",
       "       [-0.2,  1. , -0.5, -0. , -0.5,  0.3, -0.6,  0.7, -0.3, -0.3, -0.4,\n",
       "         0.2, -0.4],\n",
       "       [ 0.4, -0.5,  1. ,  0.1,  0.8, -0.4,  0.6, -0.7,  0.6,  0.7,  0.4,\n",
       "        -0.4,  0.6],\n",
       "       [-0.1, -0. ,  0.1,  1. ,  0.1,  0.1,  0.1, -0.1, -0. , -0. , -0.1,\n",
       "         0. , -0.1],\n",
       "       [ 0.4, -0.5,  0.8,  0.1,  1. , -0.3,  0.7, -0.8,  0.6,  0.7,  0.2,\n",
       "        -0.4,  0.6],\n",
       "       [-0.2,  0.3, -0.4,  0.1, -0.3,  1. , -0.2,  0.2, -0.2, -0.3, -0.4,\n",
       "         0.1, -0.6],\n",
       "       [ 0.4, -0.6,  0.6,  0.1,  0.7, -0.2,  1. , -0.7,  0.5,  0.5,  0.3,\n",
       "        -0.3,  0.6],\n",
       "       [-0.4,  0.7, -0.7, -0.1, -0.8,  0.2, -0.7,  1. , -0.5, -0.5, -0.2,\n",
       "         0.3, -0.5],\n",
       "       [ 0.6, -0.3,  0.6, -0. ,  0.6, -0.2,  0.5, -0.5,  1. ,  0.9,  0.5,\n",
       "        -0.4,  0.5],\n",
       "       [ 0.6, -0.3,  0.7, -0. ,  0.7, -0.3,  0.5, -0.5,  0.9,  1. ,  0.5,\n",
       "        -0.4,  0.5],\n",
       "       [ 0.3, -0.4,  0.4, -0.1,  0.2, -0.4,  0.3, -0.2,  0.5,  0.5,  1. ,\n",
       "        -0.2,  0.4],\n",
       "       [-0.4,  0.2, -0.4,  0. , -0.4,  0.1, -0.3,  0.3, -0.4, -0.4, -0.2,\n",
       "         1. , -0.4],\n",
       "       [ 0.5, -0.4,  0.6, -0.1,  0.6, -0.6,  0.6, -0.5,  0.5,  0.5,  0.4,\n",
       "        -0.4,  1. ]])"
      ]
     },
     "execution_count": 5,
     "metadata": {},
     "output_type": "execute_result"
    }
   ],
   "source": [
    "CoreelatinCoef_Matrix = np.round(np.corrcoef(samples,rowvar=False), decimals = 1)\n",
    "CoreelatinCoef_Matrix"
   ]
  },
  {
   "cell_type": "code",
   "execution_count": 6,
   "metadata": {},
   "outputs": [],
   "source": [
    "import seaborn as sns\n",
    "sns.set()"
   ]
  },
  {
   "cell_type": "code",
   "execution_count": 9,
   "metadata": {},
   "outputs": [
    {
     "data": {
      "image/png": "[encoded data removed]",
      "text/plain": [
       "<Figure size 432x288 with 2 Axes>"
      ]
     },
     "metadata": {},
     "output_type": "display_data"
    }
   ],
   "source": [
    "ax = sns.heatmap(CoreelatinCoef_Matrix, cmap=\"YlGnBu\")"
   ]
  },
  {
   "cell_type": "code",
   "execution_count": 17,
   "metadata": {},
   "outputs": [
    {
     "ename": "ValueError",
     "evalue": "all the input array dimensions for the concatenation axis must match exactly, but along dimension 1, the array at index 0 has size 506 and the array at index 1 has size 13",
     "output_type": "error",
     "traceback": [
      "\u001b[0;31m---------------------------------------------------------------------------\u001b[0m",
      "\u001b[0;31mValueError\u001b[0m                                Traceback (most recent call last)",
      "\u001b[0;32m<ipython-input-17-148385cc06a1>\u001b[0m in \u001b[0;36m<module>\u001b[0;34m\u001b[0m\n\u001b[0;32m----> 1\u001b[0;31m \u001b[0mCoreelatinCoef_Matrix2\u001b[0m \u001b[0;34m=\u001b[0m \u001b[0mnp\u001b[0m\u001b[0;34m.\u001b[0m\u001b[0mround\u001b[0m\u001b[0;34m(\u001b[0m\u001b[0mnp\u001b[0m\u001b[0;34m.\u001b[0m\u001b[0mcorrcoef\u001b[0m\u001b[0;34m(\u001b[0m\u001b[0msamples\u001b[0m\u001b[0;34m,\u001b[0m\u001b[0mlabel\u001b[0m\u001b[0;34m,\u001b[0m\u001b[0mrowvar\u001b[0m\u001b[0;34m=\u001b[0m\u001b[0;32mFalse\u001b[0m\u001b[0;34m)\u001b[0m\u001b[0;34m,\u001b[0m \u001b[0mdecimals\u001b[0m\u001b[0;34m=\u001b[0m\u001b[0;36m2\u001b[0m\u001b[0;34m)\u001b[0m\u001b[0;34m\u001b[0m\u001b[0;34m\u001b[0m\u001b[0m\n\u001b[0m",
      "\u001b[0;32m<__array_function__ internals>\u001b[0m in \u001b[0;36mcorrcoef\u001b[0;34m(*args, **kwargs)\u001b[0m\n",
      "\u001b[0;32m~/.bin/anaconda3/lib/python3.7/site-packages/numpy/lib/function_base.py\u001b[0m in \u001b[0;36mcorrcoef\u001b[0;34m(x, y, rowvar, bias, ddof)\u001b[0m\n\u001b[1;32m   2524\u001b[0m         warnings.warn('bias and ddof have no effect and are deprecated',\n\u001b[1;32m   2525\u001b[0m                       DeprecationWarning, stacklevel=3)\n\u001b[0;32m-> 2526\u001b[0;31m     \u001b[0mc\u001b[0m \u001b[0;34m=\u001b[0m \u001b[0mcov\u001b[0m\u001b[0;34m(\u001b[0m\u001b[0mx\u001b[0m\u001b[0;34m,\u001b[0m \u001b[0my\u001b[0m\u001b[0;34m,\u001b[0m \u001b[0mrowvar\u001b[0m\u001b[0;34m)\u001b[0m\u001b[0;34m\u001b[0m\u001b[0;34m\u001b[0m\u001b[0m\n\u001b[0m\u001b[1;32m   2527\u001b[0m     \u001b[0;32mtry\u001b[0m\u001b[0;34m:\u001b[0m\u001b[0;34m\u001b[0m\u001b[0;34m\u001b[0m\u001b[0m\n\u001b[1;32m   2528\u001b[0m         \u001b[0md\u001b[0m \u001b[0;34m=\u001b[0m \u001b[0mdiag\u001b[0m\u001b[0;34m(\u001b[0m\u001b[0mc\u001b[0m\u001b[0;34m)\u001b[0m\u001b[0;34m\u001b[0m\u001b[0;34m\u001b[0m\u001b[0m\n",
      "\u001b[0;32m<__array_function__ internals>\u001b[0m in \u001b[0;36mcov\u001b[0;34m(*args, **kwargs)\u001b[0m\n",
      "\u001b[0;32m~/.bin/anaconda3/lib/python3.7/site-packages/numpy/lib/function_base.py\u001b[0m in \u001b[0;36mcov\u001b[0;34m(m, y, rowvar, bias, ddof, fweights, aweights)\u001b[0m\n\u001b[1;32m   2388\u001b[0m         \u001b[0;32mif\u001b[0m \u001b[0;32mnot\u001b[0m \u001b[0mrowvar\u001b[0m \u001b[0;32mand\u001b[0m \u001b[0my\u001b[0m\u001b[0;34m.\u001b[0m\u001b[0mshape\u001b[0m\u001b[0;34m[\u001b[0m\u001b[0;36m0\u001b[0m\u001b[0;34m]\u001b[0m \u001b[0;34m!=\u001b[0m \u001b[0;36m1\u001b[0m\u001b[0;34m:\u001b[0m\u001b[0;34m\u001b[0m\u001b[0;34m\u001b[0m\u001b[0m\n\u001b[1;32m   2389\u001b[0m             \u001b[0my\u001b[0m \u001b[0;34m=\u001b[0m \u001b[0my\u001b[0m\u001b[0;34m.\u001b[0m\u001b[0mT\u001b[0m\u001b[0;34m\u001b[0m\u001b[0;34m\u001b[0m\u001b[0m\n\u001b[0;32m-> 2390\u001b[0;31m         \u001b[0mX\u001b[0m \u001b[0;34m=\u001b[0m \u001b[0mnp\u001b[0m\u001b[0;34m.\u001b[0m\u001b[0mconcatenate\u001b[0m\u001b[0;34m(\u001b[0m\u001b[0;34m(\u001b[0m\u001b[0mX\u001b[0m\u001b[0;34m,\u001b[0m \u001b[0my\u001b[0m\u001b[0;34m)\u001b[0m\u001b[0;34m,\u001b[0m \u001b[0maxis\u001b[0m\u001b[0;34m=\u001b[0m\u001b[0;36m0\u001b[0m\u001b[0;34m)\u001b[0m\u001b[0;34m\u001b[0m\u001b[0;34m\u001b[0m\u001b[0m\n\u001b[0m\u001b[1;32m   2391\u001b[0m \u001b[0;34m\u001b[0m\u001b[0m\n\u001b[1;32m   2392\u001b[0m     \u001b[0;32mif\u001b[0m \u001b[0mddof\u001b[0m \u001b[0;32mis\u001b[0m \u001b[0;32mNone\u001b[0m\u001b[0;34m:\u001b[0m\u001b[0;34m\u001b[0m\u001b[0;34m\u001b[0m\u001b[0m\n",
      "\u001b[0;32m<__array_function__ internals>\u001b[0m in \u001b[0;36mconcatenate\u001b[0;34m(*args, **kwargs)\u001b[0m\n",
      "\u001b[0;31mValueError\u001b[0m: all the input array dimensions for the concatenation axis must match exactly, but along dimension 1, the array at index 0 has size 506 and the array at index 1 has size 13"
     ]
    }
   ],
   "source": [
    "CoreelatinCoef_Matrix2 = np.round(np.corrcoef(samples,label,rowvar=False), decimals=2)"
   ]
  },
  {
   "cell_type": "code",
   "execution_count": 15,
   "metadata": {},
   "outputs": [
    {
     "data": {
      "text/plain": [
       "(13, 13)"
      ]
     },
     "execution_count": 15,
     "metadata": {},
     "output_type": "execute_result"
    }
   ],
   "source": [
    "\n",
    "CoreelatinCoef_Matrix2.shape"
   ]
  },
  {
   "cell_type": "code",
   "execution_count": 16,
   "metadata": {},
   "outputs": [
    {
     "data": {
      "text/plain": [
       "array(['CRIM', 'ZN', 'INDUS', 'CHAS', 'NOX', 'RM', 'AGE', 'DIS', 'RAD',\n",
       "       'TAX', 'PTRATIO', 'B', 'LSTAT'], dtype='<U7')"
      ]
     },
     "execution_count": 16,
     "metadata": {},
     "output_type": "execute_result"
    }
   ],
   "source": [
    "label"
   ]
  },
  {
   "cell_type": "code",
   "execution_count": null,
   "metadata": {},
   "outputs": [],
   "source": []
  }
 ],
 "metadata": {
  "kernelspec": {
   "display_name": "Python 3",
   "language": "python",
   "name": "python3"
  },
  "language_info": {
   "codemirror_mode": {
    "name": "ipython",
    "version": 3
   },
   "file_extension": ".py",
   "mimetype": "text/x-python",
   "name": "python",
   "nbconvert_exporter": "python",
   "pygments_lexer": "ipython3",
   "version": "3.7.6"
  }
 },
 "nbformat": 4,
 "nbformat_minor": 4
}
