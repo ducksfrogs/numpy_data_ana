{
 "cells": [
  {
   "cell_type": "code",
   "execution_count": 6,
   "metadata": {},
   "outputs": [],
   "source": [
    "import numpy as np\n",
    "from numpy import genfromtxt\n"
   ]
  },
  {
   "cell_type": "code",
   "execution_count": 8,
   "metadata": {},
   "outputs": [],
   "source": [
    "wholesales_data = genfromtxt('Wholesale customers data.csv', delimiter=',', skip_header=1)"
   ]
  },
  {
   "cell_type": "code",
   "execution_count": 9,
   "metadata": {},
   "outputs": [
    {
     "name": "stdout",
     "output_type": "stream",
     "text": [
      "[[2.0000e+00 3.0000e+00 1.2669e+04 9.6560e+03 7.5610e+03 2.1400e+02\n",
      "  2.6740e+03 1.3380e+03]\n",
      " [2.0000e+00 3.0000e+00 7.0570e+03 9.8100e+03 9.5680e+03 1.7620e+03\n",
      "  3.2930e+03 1.7760e+03]\n",
      " [2.0000e+00 3.0000e+00 6.3530e+03 8.8080e+03 7.6840e+03 2.4050e+03\n",
      "  3.5160e+03 7.8440e+03]\n",
      " [1.0000e+00 3.0000e+00 1.3265e+04 1.1960e+03 4.2210e+03 6.4040e+03\n",
      "  5.0700e+02 1.7880e+03]\n",
      " [2.0000e+00 3.0000e+00 2.2615e+04 5.4100e+03 7.1980e+03 3.9150e+03\n",
      "  1.7770e+03 5.1850e+03]]\n"
     ]
    }
   ],
   "source": [
    "print(wholesales_data[:5])"
   ]
  },
  {
   "cell_type": "code",
   "execution_count": 10,
   "metadata": {},
   "outputs": [
    {
     "data": {
      "text/plain": [
       "(440, 8)"
      ]
     },
     "execution_count": 10,
     "metadata": {},
     "output_type": "execute_result"
    }
   ],
   "source": [
    "wholesales_data.shape"
   ]
  },
  {
   "cell_type": "code",
   "execution_count": 11,
   "metadata": {},
   "outputs": [
    {
     "name": "stdout",
     "output_type": "stream",
     "text": [
      "[[3.83209141e-06 5.74813712e-06 2.42743830e-02 1.85013373e-02\n",
      "  1.44872216e-02 4.10033781e-04 5.12350622e-03 2.56366915e-03]\n",
      " [3.83209141e-06 5.74813712e-06 1.35215345e-02 1.87964084e-02\n",
      "  1.83327253e-02 3.37607253e-03 6.30953851e-03 3.40289717e-03]\n",
      " [3.83209141e-06 5.74813712e-06 1.21726384e-02 1.68765306e-02\n",
      "  1.47228952e-02 4.60808992e-03 6.73681670e-03 1.50294625e-02]\n",
      " [1.91604571e-06 5.74813712e-06 2.54163463e-02 2.29159066e-03\n",
      "  8.08762892e-03 1.22703567e-02 9.71435173e-04 3.42588972e-03]\n",
      " [3.83209141e-06 5.74813712e-06 4.33313736e-02 1.03658073e-02\n",
      "  1.37916970e-02 7.50131894e-03 3.40481322e-03 9.93469698e-03]]\n"
     ]
    }
   ],
   "source": [
    "wholeasles_data_norm = wholesales_data / np.linalg.norm(wholesales_data)\n",
    "print(wholeasles_data_norm[:5])"
   ]
  },
  {
   "cell_type": "code",
   "execution_count": 12,
   "metadata": {},
   "outputs": [],
   "source": [
    "n = np.linalg.norm(wholesales_data)"
   ]
  },
  {
   "cell_type": "code",
   "execution_count": 13,
   "metadata": {},
   "outputs": [
    {
     "data": {
      "text/plain": [
       "521908.21811215044"
      ]
     },
     "execution_count": 13,
     "metadata": {},
     "output_type": "execute_result"
    }
   ],
   "source": [
    "n"
   ]
  },
  {
   "cell_type": "code",
   "execution_count": null,
   "metadata": {},
   "outputs": [],
   "source": []
  }
 ],
 "metadata": {
  "kernelspec": {
   "display_name": "Python 3",
   "language": "python",
   "name": "python3"
  },
  "language_info": {
   "codemirror_mode": {
    "name": "ipython",
    "version": 3
   },
   "file_extension": ".py",
   "mimetype": "text/x-python",
   "name": "python",
   "nbconvert_exporter": "python",
   "pygments_lexer": "ipython3",
   "version": "3.7.6"
  }
 },
 "nbformat": 4,
 "nbformat_minor": 4
}
