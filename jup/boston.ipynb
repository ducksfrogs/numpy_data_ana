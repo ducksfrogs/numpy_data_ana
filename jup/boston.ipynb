{
 "cells": [
  {
   "cell_type": "code",
   "execution_count": 55,
   "metadata": {},
   "outputs": [],
   "source": [
    "from sklearn.datasets import load_boston\n",
    "import numpy as np"
   ]
  },
  {
   "cell_type": "code",
   "execution_count": 56,
   "metadata": {},
   "outputs": [],
   "source": [
    "import matplotlib.pyplot as plt\n",
    "%matplotlib inline"
   ]
  },
  {
   "cell_type": "code",
   "execution_count": 57,
   "metadata": {},
   "outputs": [],
   "source": [
    "\n",
    "dataset = load_boston()"
   ]
  },
  {
   "cell_type": "code",
   "execution_count": 58,
   "metadata": {},
   "outputs": [],
   "source": [
    "samples, label, feature_names = dataset.data, dataset.target, dataset.feature_names"
   ]
  },
  {
   "cell_type": "code",
   "execution_count": 59,
   "metadata": {},
   "outputs": [
    {
     "data": {
      "text/plain": [
       "(506, 13)"
      ]
     },
     "execution_count": 59,
     "metadata": {},
     "output_type": "execute_result"
    }
   ],
   "source": [
    "samples.shape"
   ]
  },
  {
   "cell_type": "code",
   "execution_count": 60,
   "metadata": {},
   "outputs": [
    {
     "data": {
      "text/plain": [
       "array(['CRIM', 'ZN', 'INDUS', 'CHAS', 'NOX', 'RM', 'AGE', 'DIS', 'RAD',\n",
       "       'TAX', 'PTRATIO', 'B', 'LSTAT'], dtype='<U7')"
      ]
     },
     "execution_count": 60,
     "metadata": {},
     "output_type": "execute_result"
    }
   ],
   "source": [
    "feature_names"
   ]
  },
  {
   "cell_type": "code",
   "execution_count": 61,
   "metadata": {
    "scrolled": true
   },
   "outputs": [
    {
     "data": {
      "image/png": "[encoded data removed]",
      "text/plain": [
       "<Figure size 432x288 with 1 Axes>"
      ]
     },
     "metadata": {
      "needs_background": "light"
     },
     "output_type": "display_data"
    }
   ],
   "source": [
    "NOX = samples[:, 5:6]\n",
    "plt.hist(NOX,bins='auto')\n",
    "plt.title('Distribution nitric oxides concentraion (parts per 10 million')\n",
    "plt.show()"
   ]
  },
  {
   "cell_type": "code",
   "execution_count": 62,
   "metadata": {},
   "outputs": [
    {
     "name": "stderr",
     "output_type": "stream",
     "text": [
      "/home/ma/.bin/anaconda3/lib/python3.7/site-packages/ipykernel_launcher.py:1: MatplotlibDeprecationWarning: \n",
      "The 'normed' kwarg was deprecated in Matplotlib 2.1 and will be removed in 3.1. Use 'density' instead.\n",
      "  \"\"\"Entry point for launching an IPython kernel.\n"
     ]
    },
    {
     "data": {
      "text/plain": [
       "(array([0.01098146, 0.01098146, 0.        , 0.02196293, 0.01098146,\n",
       "        0.02196293, 0.01098146, 0.0878517 , 0.05490731, 0.07687024,\n",
       "        0.18668486, 0.37336973, 0.6149619 , 0.71379506, 0.82360969,\n",
       "        0.68085068, 0.46122143, 0.38435119, 0.28551803, 0.1757034 ,\n",
       "        0.16472194, 0.09883316, 0.04392585, 0.07687024, 0.04392585,\n",
       "        0.01098146, 0.07687024, 0.        , 0.03294439]),\n",
       " array([3.561     , 3.74096552, 3.92093103, 4.10089655, 4.28086207,\n",
       "        4.46082759, 4.6407931 , 4.82075862, 5.00072414, 5.18068966,\n",
       "        5.36065517, 5.54062069, 5.72058621, 5.90055172, 6.08051724,\n",
       "        6.26048276, 6.44044828, 6.62041379, 6.80037931, 6.98034483,\n",
       "        7.16031034, 7.34027586, 7.52024138, 7.7002069 , 7.88017241,\n",
       "        8.06013793, 8.24010345, 8.42006897, 8.60003448, 8.78      ]),\n",
       " <a list of 29 Patch objects>)"
      ]
     },
     "execution_count": 62,
     "metadata": {},
     "output_type": "execute_result"
    },
    {
     "data": {
      "image/png": "[encoded data removed]",
      "text/plain": [
       "<Figure size 432x288 with 1 Axes>"
      ]
     },
     "metadata": {
      "needs_background": "light"
     },
     "output_type": "display_data"
    }
   ],
   "source": [
    "plt.hist(NOX, bins='auto', normed=True)"
   ]
  },
  {
   "cell_type": "code",
   "execution_count": 63,
   "metadata": {
    "scrolled": true
   },
   "outputs": [
    {
     "data": {
      "image/png": "[encoded data removed]",
      "text/plain": [
       "<Figure size 432x288 with 1 Axes>"
      ]
     },
     "metadata": {
      "needs_background": "light"
     },
     "output_type": "display_data"
    }
   ],
   "source": [
    "n, bins, patches = plt.hist(NOX, bins='auto')"
   ]
  },
  {
   "cell_type": "code",
   "execution_count": 64,
   "metadata": {},
   "outputs": [
    {
     "name": "stdout",
     "output_type": "stream",
     "text": [
      "Bin Sizes\n",
      "[ 1.  1.  0.  2.  1.  2.  1.  8.  5.  7. 17. 34. 56. 65. 75. 62. 42. 35.\n",
      " 26. 16. 15.  9.  4.  7.  4.  1.  7.  0.  3.]\n"
     ]
    }
   ],
   "source": [
    "print(\"Bin Sizes\")\n",
    "print(n)"
   ]
  },
  {
   "cell_type": "code",
   "execution_count": 65,
   "metadata": {},
   "outputs": [
    {
     "name": "stdout",
     "output_type": "stream",
     "text": [
      "Bin Edges\n",
      "[3.561      3.74096552 3.92093103 4.10089655 4.28086207 4.46082759\n",
      " 4.6407931  4.82075862 5.00072414 5.18068966 5.36065517 5.54062069\n",
      " 5.72058621 5.90055172 6.08051724 6.26048276 6.44044828 6.62041379\n",
      " 6.80037931 6.98034483 7.16031034 7.34027586 7.52024138 7.7002069\n",
      " 7.88017241 8.06013793 8.24010345 8.42006897 8.60003448 8.78      ]\n"
     ]
    }
   ],
   "source": [
    "print('Bin Edges')\n",
    "print(bins)"
   ]
  },
  {
   "cell_type": "code",
   "execution_count": 66,
   "metadata": {},
   "outputs": [
    {
     "data": {
      "text/plain": [
       "array([['3.561-3.740965517241379', '1.0'],\n",
       "       ['3.740965517241379-3.9209310344827584', '1.0'],\n",
       "       ['3.9209310344827584-4.100896551724138', '0.0'],\n",
       "       ['4.100896551724138-4.280862068965517', '2.0'],\n",
       "       ['4.280862068965517-4.4608275862068965', '1.0'],\n",
       "       ['4.4608275862068965-4.640793103448276', '2.0'],\n",
       "       ['4.640793103448276-4.820758620689655', '1.0'],\n",
       "       ['4.820758620689655-5.0007241379310345', '8.0'],\n",
       "       ['5.0007241379310345-5.180689655172413', '5.0'],\n",
       "       ['5.180689655172413-5.360655172413793', '7.0'],\n",
       "       ['5.360655172413793-5.540620689655173', '17.0'],\n",
       "       ['5.540620689655173-5.720586206896551', '34.0'],\n",
       "       ['5.720586206896551-5.90055172413793', '56.0'],\n",
       "       ['5.90055172413793-6.08051724137931', '65.0'],\n",
       "       ['6.08051724137931-6.2604827586206895', '75.0'],\n",
       "       ['6.2604827586206895-6.440448275862069', '62.0'],\n",
       "       ['6.440448275862069-6.620413793103448', '42.0'],\n",
       "       ['6.620413793103448-6.800379310344827', '35.0'],\n",
       "       ['6.800379310344827-6.980344827586206', '26.0'],\n",
       "       ['6.980344827586206-7.160310344827586', '16.0'],\n",
       "       ['7.160310344827586-7.340275862068966', '15.0'],\n",
       "       ['7.340275862068966-7.520241379310344', '9.0'],\n",
       "       ['7.520241379310344-7.700206896551724', '4.0'],\n",
       "       ['7.700206896551724-7.880172413793103', '7.0'],\n",
       "       ['7.880172413793103-8.060137931034483', '4.0'],\n",
       "       ['8.060137931034483-8.24010344827586', '1.0'],\n",
       "       ['8.24010344827586-8.420068965517242', '7.0'],\n",
       "       ['8.420068965517242-8.60003448275862', '0.0'],\n",
       "       ['8.60003448275862-8.78', '3.0']], dtype='<U36')"
      ]
     },
     "execution_count": 66,
     "metadata": {},
     "output_type": "execute_result"
    }
   ],
   "source": [
    "bins_string = bins.astype(np.str)\n",
    "n_string = n.astype(np.str)\n",
    "lists = []\n",
    "for i in range(0, len(bins_string)-1):\n",
    "    c = bins_string[i]+\"-\"+bins_string[i+1]\n",
    "    lists.append(c)\n",
    "new_bins= np.asarray(lists)\n",
    "Stacked_Bins = np.vstack((new_bins, n_string)).T\n",
    "Stacked_Bins"
   ]
  },
  {
   "cell_type": "code",
   "execution_count": 67,
   "metadata": {},
   "outputs": [
    {
     "data": {
      "image/png": "[encoded data removed]",
      "text/plain": [
       "<Figure size 432x288 with 6 Axes>"
      ]
     },
     "metadata": {
      "needs_background": "light"
     },
     "output_type": "display_data"
    }
   ],
   "source": [
    "fig, ((ax1, ax2, ax3),(ax4, ax5, ax6)) = plt.subplots(2,3, sharex=True)\n",
    "axs = [ax1, ax2, ax3, ax4, ax5, ax6]\n",
    "list_methods = ['fd','doane','scott','rice', 'sturges','sqrt']\n",
    "plt.tight_layout(pad=1.1, w_pad=0.8, h_pad=1.0)\n",
    "for n in range(0, len(axs)):\n",
    "    axs[n].hist(NOX, bins= list_methods[n])\n",
    "    axs[n].set_title('{}'.format(list_methods[n]))\n"
   ]
  },
  {
   "cell_type": "code",
   "execution_count": 68,
   "metadata": {},
   "outputs": [
    {
     "name": "stderr",
     "output_type": "stream",
     "text": [
      "/home/ma/.bin/anaconda3/lib/python3.7/site-packages/ipykernel_launcher.py:6: MatplotlibDeprecationWarning: \n",
      "The 'normed' kwarg was deprecated in Matplotlib 2.1 and will be removed in 3.1. Use 'density' instead.\n",
      "  \n"
     ]
    },
    {
     "data": {
      "image/png": "[encoded data removed]",
      "text/plain": [
       "<Figure size 720x1080 with 12 Axes>"
      ]
     },
     "metadata": {
      "needs_background": "light"
     },
     "output_type": "display_data"
    }
   ],
   "source": [
    "\n",
    "fig,((ax1, ax2, ax3),(ax4,ax5, ax6), (ax7, ax8, ax9), (ax10, ax11, ax12)) \\\n",
    "= plt.subplots(4,3, figsize=(10,15))\n",
    "axs = [ax1, ax2, ax3, ax4, ax5, ax6, ax7, ax8, ax9, ax10, ax11, ax12]\n",
    "feature_names_new = np.delete(feature_names, 3)\n",
    "for n in range(0, len(axs)):\n",
    "    axs[n].hist(samples_new[:,n:n+1], bins='auto', normed=True)\n",
    "    axs[n].set_title('{}'.format(feature_names[n]))\n"
   ]
  },
  {
   "cell_type": "code",
   "execution_count": 71,
   "metadata": {},
   "outputs": [],
   "source": [
    "from scipy import stats"
   ]
  },
  {
   "cell_type": "code",
   "execution_count": 72,
   "metadata": {},
   "outputs": [
    {
     "name": "stdout",
     "output_type": "stream",
     "text": [
      "CRIM-Kurtosis: 2.102090573040533 Skewness: 1.9534138515494224\n",
      "ZN-Kurtosis: 2.8706349006925134 Skewness: 2.0753333576721893\n",
      "INDUS-Kurtosis: 2.9386308786131767 Skewness: 2.1061627843164086\n",
      "NOX-Kurtosis: 3.47131446484547 Skewness: 2.2172838215060517\n",
      "RM-Kurtosis: 3.461596258869246 Skewness: 2.2086627738768234\n",
      "AGE-Kurtosis: 3.395079726813978 Skewness: 2.1917520072643533\n",
      "DIS-Kurtosis: 1.9313625761956317 Skewness: 1.924572804475305\n",
      "RAD-Kurtosis: 1.7633603556547106 Skewness: 1.8601991629604233\n",
      "TAX-Kurtosis: 1.637076772210217 Skewness: 1.8266096199819994\n",
      "PTRATIO-Kurtosis: 1.7459544645159752 Skewness: 1.8679592455694167\n",
      "B-Kurtosis: 1.7375702020429316 Skewness: 1.8566444885400044\n",
      "LSTAT-Kurtosis: 1.8522036606250456 Skewness: 1.892802610207445\n"
     ]
    }
   ],
   "source": [
    "for n in range(0,len(feature_names_new)):\n",
    "    kurt = stats.describe(samples[n])[5]\n",
    "    skew = stats.describe(samples[n])[4]\n",
    "    print(feature_names_new[n] + \"-Kurtosis: {} Skewness: {}\".format(kurt, skew))\n"
   ]
  },
  {
   "cell_type": "code",
   "execution_count": null,
   "metadata": {},
   "outputs": [],
   "source": []
  },
  {
   "cell_type": "code",
   "execution_count": null,
   "metadata": {},
   "outputs": [],
   "source": []
  },
  {
   "cell_type": "code",
   "execution_count": null,
   "metadata": {},
   "outputs": [],
   "source": []
  },
  {
   "cell_type": "code",
   "execution_count": null,
   "metadata": {},
   "outputs": [],
   "source": []
  },
  {
   "cell_type": "code",
   "execution_count": null,
   "metadata": {},
   "outputs": [],
   "source": []
  }
 ],
 "metadata": {
  "kernelspec": {
   "display_name": "Python 3",
   "language": "python",
   "name": "python3"
  },
  "language_info": {
   "codemirror_mode": {
    "name": "ipython",
    "version": 3
   },
   "file_extension": ".py",
   "mimetype": "text/x-python",
   "name": "python",
   "nbconvert_exporter": "python",
   "pygments_lexer": "ipython3",
   "version": "3.7.6"
  }
 },
 "nbformat": 4,
 "nbformat_minor": 4
}
