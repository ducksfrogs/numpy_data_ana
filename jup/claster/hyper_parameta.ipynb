{
 "cells": [
  {
   "cell_type": "code",
   "execution_count": 1,
   "metadata": {},
   "outputs": [],
   "source": [
    "import numpy as np\n",
    "import pandas as pd\n",
    "import matplotlib.pyplot as plt\n",
    "\n",
    "from sklearn.cluster import KMeans\n",
    "from sklearn.datasets import make_blobs\n",
    "\n",
    "X, y = make_blobs(n_samples=30, centers=3, n_features=3, random_state=42)\n",
    "\n"
   ]
  },
  {
   "cell_type": "code",
   "execution_count": 2,
   "metadata": {},
   "outputs": [],
   "source": [
    "\n",
    "k_means = KMeans(n_clusters=3)\n",
    "y_hat = k_means.fit_predict(X)\n"
   ]
  },
  {
   "cell_type": "code",
   "execution_count": 3,
   "metadata": {},
   "outputs": [
    {
     "name": "stdout",
     "output_type": "stream",
     "text": [
      "[2 2 2 1 0 1 0 0 2 0 1 0 2 2 1 1 1 2 2 0 0 1 2 0 2 0 1 0 1 1]\n"
     ]
    }
   ],
   "source": [
    "print(y_hat)"
   ]
  },
  {
   "cell_type": "code",
   "execution_count": 4,
   "metadata": {},
   "outputs": [
    {
     "name": "stdout",
     "output_type": "stream",
     "text": [
      "[2 2 2 0 1 0 1 1 2 1 0 1 2 2 0 0 0 2 2 1 1 0 2 1 2 1 0 1 0 0]\n"
     ]
    }
   ],
   "source": [
    "print(y)"
   ]
  },
  {
   "cell_type": "code",
   "execution_count": 6,
   "metadata": {},
   "outputs": [
    {
     "data": {
      "text/plain": [
       "-0.031439890354080784"
      ]
     },
     "execution_count": 6,
     "metadata": {},
     "output_type": "execute_result"
    }
   ],
   "source": [
    "np.mean(X)"
   ]
  },
  {
   "cell_type": "code",
   "execution_count": 7,
   "metadata": {},
   "outputs": [
    {
     "data": {
      "text/plain": [
       "3"
      ]
     },
     "execution_count": 7,
     "metadata": {},
     "output_type": "execute_result"
    }
   ],
   "source": [
    "len(X[0,:])"
   ]
  },
  {
   "cell_type": "code",
   "execution_count": 8,
   "metadata": {},
   "outputs": [
    {
     "data": {
      "text/plain": [
       "30"
      ]
     },
     "execution_count": 8,
     "metadata": {},
     "output_type": "execute_result"
    }
   ],
   "source": [
    "len(X)"
   ]
  },
  {
   "cell_type": "code",
   "execution_count": 9,
   "metadata": {},
   "outputs": [],
   "source": [
    "import chart_studio.plotly as py\n",
    "from plotly.offline import download_plotlyjs, init_notebook_mode, plot, iplot\n",
    "import cufflinks as cf\n",
    "import plotly.graph_objs as go\n"
   ]
  },
  {
   "cell_type": "code",
   "execution_count": 25,
   "metadata": {},
   "outputs": [
    {
     "data": {
      "text/plain": [
       "'temp-plot.html'"
      ]
     },
     "execution_count": 25,
     "metadata": {},
     "output_type": "execute_result"
    }
   ],
   "source": [
    "data = [1,2,3,2,1,9,8,11,12,10,14,25,26,24,30,22,24,27]\n",
    "\n",
    "trace1 = go.Scatter(x=data, y=[0 for num in data],mode='markers', name='Data',\n",
    "                    marker=dict(size=12)\n",
    "                    )\n",
    "\n",
    "layout = go.Layout(title='1D vector')\n",
    "\n",
    "traces = [trace1]\n",
    "\n",
    "fig = go.Figure(data=traces, layout=layout)\n",
    "plot(fig)\n"
   ]
  },
  {
   "cell_type": "code",
   "execution_count": 26,
   "metadata": {},
   "outputs": [
    {
     "name": "stdout",
     "output_type": "stream",
     "text": [
      "[ 2  1 25]\n"
     ]
    }
   ],
   "source": [
    "n_clusters = 3\n",
    "c_centers = np.random.choice(data, n_clusters)\n",
    "print(c_centers)\n"
   ]
  },
  {
   "cell_type": "code",
   "execution_count": 27,
   "metadata": {},
   "outputs": [
    {
     "data": {
      "text/plain": [
       "24"
      ]
     },
     "execution_count": 27,
     "metadata": {},
     "output_type": "execute_result"
    }
   ],
   "source": [
    "np.random.choice(data)"
   ]
  },
  {
   "cell_type": "code",
   "execution_count": 28,
   "metadata": {},
   "outputs": [],
   "source": [
    "deltas = np.array([np.abs(point - c_centers) for point in X])"
   ]
  },
  {
   "cell_type": "code",
   "execution_count": 29,
   "metadata": {},
   "outputs": [
    {
     "name": "stdout",
     "output_type": "stream",
     "text": [
      "[[10.66277446  6.01423437 22.30457426]\n",
      " [11.62758609  7.0672342  23.18986119]\n",
      " [12.25707822  7.36601453 22.07416727]\n",
      " [ 4.1149646   8.13650529 20.87555683]\n",
      " [ 0.7468701   8.41776885 33.22678769]\n",
      " [ 5.25160446  7.31094233 22.49974182]\n",
      " [ 2.75148273  6.68598747 31.66147128]\n",
      " [ 0.72816748  8.08679308 32.50358699]\n",
      " [10.58121089  6.63803581 21.60583763]\n",
      " [ 0.43721362  6.69991085 32.77831753]\n",
      " [ 5.14475736  6.99273393 20.52187655]\n",
      " [ 0.90742158  9.0101795  31.74568071]\n",
      " [11.13028043  3.66834687 22.63218182]\n",
      " [11.09495794  5.95569719 21.70396614]\n",
      " [ 3.69275254  6.49041013 20.78816723]\n",
      " [ 5.43328046  5.40173712 19.40975148]\n",
      " [ 5.10945147  8.96172595 20.06908716]\n",
      " [11.26519655  6.82497125 21.81951311]\n",
      " [ 9.3428935   6.66170417 19.60540351]\n",
      " [ 1.53498361  6.77998022 32.05784171]\n",
      " [ 0.10263406  6.90666366 31.08451413]\n",
      " [ 5.04284643  8.00875827 20.58957162]\n",
      " [11.75871856  5.92488453 23.03856385]\n",
      " [ 0.55529248  6.99187873 30.98577726]\n",
      " [10.81932743  5.78910646 24.47275364]\n",
      " [ 0.85493072  8.88871253 33.46340381]\n",
      " [ 4.11984871  6.74916701 19.2681289 ]\n",
      " [ 0.8079651   7.58306581 32.91793947]\n",
      " [ 5.09007576  7.48911632 20.93150133]\n",
      " [ 5.13867258  8.6120066  17.80063313]]\n"
     ]
    }
   ],
   "source": [
    "print(deltas)"
   ]
  },
  {
   "cell_type": "code",
   "execution_count": null,
   "metadata": {},
   "outputs": [],
   "source": []
  }
 ],
 "metadata": {
  "kernelspec": {
   "display_name": "Python 3",
   "language": "python",
   "name": "python3"
  },
  "language_info": {
   "codemirror_mode": {
    "name": "ipython",
    "version": 3
   },
   "file_extension": ".py",
   "mimetype": "text/x-python",
   "name": "python",
   "nbconvert_exporter": "python",
   "pygments_lexer": "ipython3",
   "version": "3.7.6"
  }
 },
 "nbformat": 4,
 "nbformat_minor": 4
}
